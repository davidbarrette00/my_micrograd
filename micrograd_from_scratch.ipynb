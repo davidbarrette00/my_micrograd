{
 "cells": [
  {
   "cell_type": "code",
   "execution_count": 330,
   "metadata": {
    "collapsed": true,
    "ExecuteTime": {
     "end_time": "2024-03-02T23:35:03.104881Z",
     "start_time": "2024-03-02T23:35:02.657664300Z"
    }
   },
   "outputs": [],
   "source": [
    "import math\n",
    "import numpy as np\n",
    "import matplotlib.pyplot as plt\n",
    "%matplotlib inline"
   ]
  },
  {
   "cell_type": "code",
   "execution_count": 331,
   "outputs": [
    {
     "data": {
      "text/plain": "20.0"
     },
     "execution_count": 331,
     "metadata": {},
     "output_type": "execute_result"
    }
   ],
   "source": [
    "def f(x):\n",
    "    return 3*x**2 - 4*x + 5\n",
    "f(3.0)"
   ],
   "metadata": {
    "collapsed": false,
    "ExecuteTime": {
     "end_time": "2024-03-02T23:35:03.104881Z",
     "start_time": "2024-03-02T23:35:02.668103500Z"
    }
   }
  },
  {
   "cell_type": "code",
   "execution_count": 332,
   "outputs": [
    {
     "data": {
      "text/plain": "[<matplotlib.lines.Line2D at 0x150dcc4f6e0>]"
     },
     "execution_count": 332,
     "metadata": {},
     "output_type": "execute_result"
    },
    {
     "data": {
      "text/plain": "<Figure size 500x200 with 1 Axes>",
      "image/png": "[encoded data removed]"
     },
     "metadata": {},
     "output_type": "display_data"
    }
   ],
   "source": [
    "xs = np.arange(-5,5, 0.25)\n",
    "ys = f(xs)\n",
    "plt.figure(figsize=(5,2))\n",
    "plt.plot(xs, ys)"
   ],
   "metadata": {
    "collapsed": false,
    "ExecuteTime": {
     "end_time": "2024-03-02T23:35:03.250414700Z",
     "start_time": "2024-03-02T23:35:02.723016500Z"
    }
   }
  },
  {
   "cell_type": "code",
   "execution_count": 333,
   "outputs": [
    {
     "data": {
      "text/plain": "-22.00000039920269"
     },
     "execution_count": 333,
     "metadata": {},
     "output_type": "execute_result"
    }
   ],
   "source": [
    "h = 0.00000001 #dx\n",
    "x = -3.0\n",
    "(f(x + h) - f(x))/h"
   ],
   "metadata": {
    "collapsed": false,
    "ExecuteTime": {
     "end_time": "2024-03-02T23:35:03.250414700Z",
     "start_time": "2024-03-02T23:35:03.168790200Z"
    }
   }
  },
  {
   "cell_type": "code",
   "execution_count": 334,
   "outputs": [
    {
     "name": "stdout",
     "output_type": "stream",
     "text": [
      "d1 4.0\n",
      "d2 3.999699999999999\n",
      "slope -3.000000000010772\n"
     ]
    }
   ],
   "source": [
    "h = 0.0001\n",
    "a = 2.0\n",
    "b = -3.0\n",
    "c = 10.0\n",
    "\n",
    "d1 = a * b + c\n",
    "a += h #change this to b or c, how does taking the derivative relative to diff vars change the slope\n",
    "d2 = a * b + c\n",
    "print (\"d1\", d1)\n",
    "print (\"d2\", d2)\n",
    "print (\"slope\", (d2-d1)/h)"
   ],
   "metadata": {
    "collapsed": false,
    "ExecuteTime": {
     "end_time": "2024-03-02T23:35:03.250414700Z",
     "start_time": "2024-03-02T23:35:03.185361800Z"
    }
   }
  },
  {
   "cell_type": "code",
   "execution_count": 335,
   "outputs": [
    {
     "data": {
      "text/plain": "Value(data=-8.0)"
     },
     "execution_count": 335,
     "metadata": {},
     "output_type": "execute_result"
    }
   ],
   "source": [
    "class Value:\n",
    "\n",
    "    def __init__(self, data, _children=(), _op='', label=''):\n",
    "        self.data = data\n",
    "        self.grad = 0.0\n",
    "        self._backward = lambda: None\n",
    "        self._prev = set(_children)\n",
    "        self._op = _op\n",
    "        self.label = label\n",
    "\n",
    "    def __repr__(self):\n",
    "        return f\"Value(data={self.data})\"\n",
    "\n",
    "    def __add__(self, other):\n",
    "        other = other if isinstance(other, Value) else Value(other)\n",
    "        out = Value(self.data + other.data, (self, other), '+')\n",
    "\n",
    "        def _backward():\n",
    "            self.grad += 1.0 * out.grad\n",
    "            other.grad += 1.0 * out.grad\n",
    "\n",
    "        out._backward = _backward\n",
    "\n",
    "        return out\n",
    "\n",
    "    def __mul__(self, other):\n",
    "        other = other if isinstance(other, Value) else Value(other)\n",
    "        out = Value(self.data * other.data, (self, other), '*')\n",
    "\n",
    "        def _backward():\n",
    "            self.grad += other.data * out.grad\n",
    "            other.grad += self.data * out.grad\n",
    "\n",
    "        out._backward = _backward\n",
    "\n",
    "        return out\n",
    "\n",
    "    def __pow__(self, other):\n",
    "        assert isinstance(other, (int, float)), \"only supporting int/float powers for now\"\n",
    "        out = Value(self.data ** other, (self,), f'**{other}')\n",
    "\n",
    "        def _backward():\n",
    "            self.grad += other * (self.data ** (other - 1)) * out.grad\n",
    "\n",
    "        out._backward = _backward\n",
    "\n",
    "        return out\n",
    "\n",
    "    def __rmul__(self, other):  # other * self\n",
    "        return self * other\n",
    "\n",
    "    def __truediv__(self, other):  # self / other\n",
    "        return self * other ** -1\n",
    "\n",
    "    def __neg__(self):  # -self\n",
    "        return self * -1\n",
    "\n",
    "    def __sub__(self, other):  # self - other\n",
    "        return self + (-other)\n",
    "\n",
    "    def __radd__(self, other):  # other + self\n",
    "        return self + other\n",
    "\n",
    "    def tanh(self):\n",
    "        x = self.data\n",
    "        t = (math.exp(2 * x) - 1) / (math.exp(2 * x) + 1)\n",
    "        out = Value(t, (self,), 'tanh')\n",
    "\n",
    "        def _backward():\n",
    "            self.grad += (1 - t ** 2) * out.grad\n",
    "\n",
    "        out._backward = _backward\n",
    "\n",
    "        return out\n",
    "\n",
    "    def exp(self):\n",
    "        x = self.data\n",
    "        out = Value(math.exp(x), (self,), 'exp')\n",
    "\n",
    "        def _backward():\n",
    "            self.grad += out.data * out.grad  # NOTE: in the video I incorrectly used = instead of +=. Fixed here.\n",
    "\n",
    "        out._backward = _backward\n",
    "\n",
    "        return out\n",
    "\n",
    "    def backward(self):\n",
    "\n",
    "        topo = []\n",
    "        visited = set()\n",
    "\n",
    "        def build_topo(v):\n",
    "            if v not in visited:\n",
    "                visited.add(v)\n",
    "                for child in v._prev:\n",
    "                    build_topo(child)\n",
    "                topo.append(v)\n",
    "\n",
    "        build_topo(self)\n",
    "\n",
    "        self.grad = 1.0\n",
    "        for node in reversed(topo):\n",
    "            node._backward()\n",
    "\n",
    "\n",
    "a = Value(2.0, label='a')\n",
    "b = Value(-3.0, label='b')\n",
    "c = Value(10.0, label='c')\n",
    "e = a*b; e.label = 'e'\n",
    "d = e + c; d.label = 'd'\n",
    "f = Value(-2.0, label='f')\n",
    "L = d * f; L.label = 'L'\n",
    "L"
   ],
   "metadata": {
    "collapsed": false,
    "ExecuteTime": {
     "end_time": "2024-03-02T23:35:03.258437100Z",
     "start_time": "2024-03-02T23:35:03.217551100Z"
    }
   }
  },
  {
   "cell_type": "code",
   "execution_count": 336,
   "outputs": [
    {
     "data": {
      "image/svg+xml": "<?xml version=\"1.0\" encoding=\"UTF-8\" standalone=\"no\"?>\n<!DOCTYPE svg PUBLIC \"-//W3C//DTD SVG 1.1//EN\"\n \"http://www.w3.org/Graphics/SVG/1.1/DTD/svg11.dtd\">\n<!-- Generated by graphviz version 2.38.0 (20140413.2041)\n -->\n<!-- Title: %3 Pages: 1 -->\n<svg width=\"734pt\" height=\"210pt\"\n viewBox=\"0.00 0.00 734.00 210.00\" xmlns=\"http://www.w3.org/2000/svg\" xmlns:xlink=\"http://www.w3.org/1999/xlink\">\n<g id=\"graph0\" class=\"graph\" transform=\"scale(1 1) rotate(0) translate(4 206)\">\n<title>%3</title>\n<polygon fill=\"white\" stroke=\"none\" points=\"-4,4 -4,-206 730,-206 730,4 -4,4\"/>\n<!-- 1446804678672 -->\n<g id=\"node1\" class=\"node\"><title>1446804678672</title>\n<polygon fill=\"none\" stroke=\"black\" points=\"427.5,-132.5 427.5,-201.5 513.5,-201.5 513.5,-132.5 427.5,-132.5\"/>\n<text text-anchor=\"middle\" x=\"470.5\" y=\"-186.3\" font-family=\"Times New Roman,serif\" font-size=\"14.00\">f</text>\n<polyline fill=\"none\" stroke=\"black\" points=\"427.5,-178.5 513.5,-178.5 \"/>\n<text text-anchor=\"middle\" x=\"470.5\" y=\"-163.3\" font-family=\"Times New Roman,serif\" font-size=\"14.00\">data &#45;2.0000</text>\n<polyline fill=\"none\" stroke=\"black\" points=\"427.5,-155.5 513.5,-155.5 \"/>\n<text text-anchor=\"middle\" x=\"470.5\" y=\"-140.3\" font-family=\"Times New Roman,serif\" font-size=\"14.00\">grad 4.0000</text>\n</g>\n<!-- 1446804679632* -->\n<g id=\"node10\" class=\"node\"><title>1446804679632*</title>\n<ellipse fill=\"none\" stroke=\"black\" cx=\"577\" cy=\"-123\" rx=\"27\" ry=\"18\"/>\n<text text-anchor=\"middle\" x=\"577\" y=\"-119.3\" font-family=\"Times New Roman,serif\" font-size=\"14.00\">*</text>\n</g>\n<!-- 1446804678672&#45;&gt;1446804679632* -->\n<g id=\"edge4\" class=\"edge\"><title>1446804678672&#45;&gt;1446804679632*</title>\n<path fill=\"none\" stroke=\"black\" d=\"M513.703,-149.23C523.984,-144.901 534.805,-140.345 544.49,-136.267\"/>\n<polygon fill=\"black\" stroke=\"black\" points=\"545.877,-139.481 553.735,-132.375 543.161,-133.03 545.877,-139.481\"/>\n</g>\n<!-- 1446816785440 -->\n<g id=\"node2\" class=\"node\"><title>1446816785440</title>\n<polygon fill=\"none\" stroke=\"black\" points=\"2,-132.5 2,-201.5 85,-201.5 85,-132.5 2,-132.5\"/>\n<text text-anchor=\"middle\" x=\"43.5\" y=\"-186.3\" font-family=\"Times New Roman,serif\" font-size=\"14.00\">a</text>\n<polyline fill=\"none\" stroke=\"black\" points=\"2,-178.5 85,-178.5 \"/>\n<text text-anchor=\"middle\" x=\"43.5\" y=\"-163.3\" font-family=\"Times New Roman,serif\" font-size=\"14.00\">data 2.0000</text>\n<polyline fill=\"none\" stroke=\"black\" points=\"2,-155.5 85,-155.5 \"/>\n<text text-anchor=\"middle\" x=\"43.5\" y=\"-140.3\" font-family=\"Times New Roman,serif\" font-size=\"14.00\">grad 6.0000</text>\n</g>\n<!-- 1446804676128* -->\n<g id=\"node4\" class=\"node\"><title>1446804676128*</title>\n<ellipse fill=\"none\" stroke=\"black\" cx=\"150\" cy=\"-123\" rx=\"27\" ry=\"18\"/>\n<text text-anchor=\"middle\" x=\"150\" y=\"-119.3\" font-family=\"Times New Roman,serif\" font-size=\"14.00\">*</text>\n</g>\n<!-- 1446816785440&#45;&gt;1446804676128* -->\n<g id=\"edge8\" class=\"edge\"><title>1446816785440&#45;&gt;1446804676128*</title>\n<path fill=\"none\" stroke=\"black\" d=\"M85.2017,-149.862C95.8852,-145.364 107.247,-140.58 117.376,-136.315\"/>\n<polygon fill=\"black\" stroke=\"black\" points=\"118.79,-139.518 126.648,-132.411 116.074,-133.066 118.79,-139.518\"/>\n</g>\n<!-- 1446804676128 -->\n<g id=\"node3\" class=\"node\"><title>1446804676128</title>\n<polygon fill=\"none\" stroke=\"black\" points=\"213.5,-88.5 213.5,-157.5 300.5,-157.5 300.5,-88.5 213.5,-88.5\"/>\n<text text-anchor=\"middle\" x=\"257\" y=\"-142.3\" font-family=\"Times New Roman,serif\" font-size=\"14.00\">e</text>\n<polyline fill=\"none\" stroke=\"black\" points=\"213.5,-134.5 300.5,-134.5 \"/>\n<text text-anchor=\"middle\" x=\"257\" y=\"-119.3\" font-family=\"Times New Roman,serif\" font-size=\"14.00\">data &#45;6.0000</text>\n<polyline fill=\"none\" stroke=\"black\" points=\"213.5,-111.5 300.5,-111.5 \"/>\n<text text-anchor=\"middle\" x=\"257\" y=\"-96.3\" font-family=\"Times New Roman,serif\" font-size=\"14.00\">grad &#45;2.0000</text>\n</g>\n<!-- 1446804682800+ -->\n<g id=\"node6\" class=\"node\"><title>1446804682800+</title>\n<ellipse fill=\"none\" stroke=\"black\" cx=\"364\" cy=\"-79\" rx=\"27\" ry=\"18\"/>\n<text text-anchor=\"middle\" x=\"364\" y=\"-75.3\" font-family=\"Times New Roman,serif\" font-size=\"14.00\">+</text>\n</g>\n<!-- 1446804676128&#45;&gt;1446804682800+ -->\n<g id=\"edge6\" class=\"edge\"><title>1446804676128&#45;&gt;1446804682800+</title>\n<path fill=\"none\" stroke=\"black\" d=\"M300.708,-105.104C311.013,-100.785 321.839,-96.2482 331.523,-92.1903\"/>\n<polygon fill=\"black\" stroke=\"black\" points=\"332.894,-95.4108 340.764,-88.3178 330.189,-88.9547 332.894,-95.4108\"/>\n</g>\n<!-- 1446804676128*&#45;&gt;1446804676128 -->\n<g id=\"edge1\" class=\"edge\"><title>1446804676128*&#45;&gt;1446804676128</title>\n<path fill=\"none\" stroke=\"black\" d=\"M177.225,-123C185.169,-123 194.194,-123 203.231,-123\"/>\n<polygon fill=\"black\" stroke=\"black\" points=\"203.38,-126.5 213.38,-123 203.38,-119.5 203.38,-126.5\"/>\n</g>\n<!-- 1446804682800 -->\n<g id=\"node5\" class=\"node\"><title>1446804682800</title>\n<polygon fill=\"none\" stroke=\"black\" points=\"427,-44.5 427,-113.5 514,-113.5 514,-44.5 427,-44.5\"/>\n<text text-anchor=\"middle\" x=\"470.5\" y=\"-98.3\" font-family=\"Times New Roman,serif\" font-size=\"14.00\">d</text>\n<polyline fill=\"none\" stroke=\"black\" points=\"427,-90.5 514,-90.5 \"/>\n<text text-anchor=\"middle\" x=\"470.5\" y=\"-75.3\" font-family=\"Times New Roman,serif\" font-size=\"14.00\">data 4.0000</text>\n<polyline fill=\"none\" stroke=\"black\" points=\"427,-67.5 514,-67.5 \"/>\n<text text-anchor=\"middle\" x=\"470.5\" y=\"-52.3\" font-family=\"Times New Roman,serif\" font-size=\"14.00\">grad &#45;2.0000</text>\n</g>\n<!-- 1446804682800&#45;&gt;1446804679632* -->\n<g id=\"edge5\" class=\"edge\"><title>1446804682800&#45;&gt;1446804679632*</title>\n<path fill=\"none\" stroke=\"black\" d=\"M514.004,-96.8965C524.153,-101.17 534.811,-105.657 544.372,-109.683\"/>\n<polygon fill=\"black\" stroke=\"black\" points=\"543.296,-113.027 553.87,-113.682 546.012,-106.576 543.296,-113.027\"/>\n</g>\n<!-- 1446804682800+&#45;&gt;1446804682800 -->\n<g id=\"edge2\" class=\"edge\"><title>1446804682800+&#45;&gt;1446804682800</title>\n<path fill=\"none\" stroke=\"black\" d=\"M391.1,-79C398.834,-79 407.599,-79 416.395,-79\"/>\n<polygon fill=\"black\" stroke=\"black\" points=\"416.677,-82.5001 426.677,-79 416.677,-75.5001 416.677,-82.5001\"/>\n</g>\n<!-- 1446818681424 -->\n<g id=\"node7\" class=\"node\"><title>1446818681424</title>\n<polygon fill=\"none\" stroke=\"black\" points=\"0,-44.5 0,-113.5 87,-113.5 87,-44.5 0,-44.5\"/>\n<text text-anchor=\"middle\" x=\"43.5\" y=\"-98.3\" font-family=\"Times New Roman,serif\" font-size=\"14.00\">b</text>\n<polyline fill=\"none\" stroke=\"black\" points=\"0,-90.5 87,-90.5 \"/>\n<text text-anchor=\"middle\" x=\"43.5\" y=\"-75.3\" font-family=\"Times New Roman,serif\" font-size=\"14.00\">data &#45;3.0000</text>\n<polyline fill=\"none\" stroke=\"black\" points=\"0,-67.5 87,-67.5 \"/>\n<text text-anchor=\"middle\" x=\"43.5\" y=\"-52.3\" font-family=\"Times New Roman,serif\" font-size=\"14.00\">grad &#45;4.0000</text>\n</g>\n<!-- 1446818681424&#45;&gt;1446804676128* -->\n<g id=\"edge7\" class=\"edge\"><title>1446818681424&#45;&gt;1446804676128*</title>\n<path fill=\"none\" stroke=\"black\" d=\"M87.0042,-96.8965C97.1533,-101.17 107.811,-105.657 117.372,-109.683\"/>\n<polygon fill=\"black\" stroke=\"black\" points=\"116.296,-113.027 126.87,-113.682 119.012,-106.576 116.296,-113.027\"/>\n</g>\n<!-- 1446818689104 -->\n<g id=\"node8\" class=\"node\"><title>1446818689104</title>\n<polygon fill=\"none\" stroke=\"black\" points=\"213,-0.5 213,-69.5 301,-69.5 301,-0.5 213,-0.5\"/>\n<text text-anchor=\"middle\" x=\"257\" y=\"-54.3\" font-family=\"Times New Roman,serif\" font-size=\"14.00\">c</text>\n<polyline fill=\"none\" stroke=\"black\" points=\"213,-46.5 301,-46.5 \"/>\n<text text-anchor=\"middle\" x=\"257\" y=\"-31.3\" font-family=\"Times New Roman,serif\" font-size=\"14.00\">data 10.0000</text>\n<polyline fill=\"none\" stroke=\"black\" points=\"213,-23.5 301,-23.5 \"/>\n<text text-anchor=\"middle\" x=\"257\" y=\"-8.3\" font-family=\"Times New Roman,serif\" font-size=\"14.00\">grad &#45;2.0000</text>\n</g>\n<!-- 1446818689104&#45;&gt;1446804682800+ -->\n<g id=\"edge9\" class=\"edge\"><title>1446818689104&#45;&gt;1446804682800+</title>\n<path fill=\"none\" stroke=\"black\" d=\"M301.01,-53.0234C311.099,-57.2508 321.67,-61.6809 331.168,-65.6609\"/>\n<polygon fill=\"black\" stroke=\"black\" points=\"330.036,-68.9814 340.612,-69.6182 332.741,-62.5253 330.036,-68.9814\"/>\n</g>\n<!-- 1446804679632 -->\n<g id=\"node9\" class=\"node\"><title>1446804679632</title>\n<polygon fill=\"none\" stroke=\"black\" points=\"640,-88.5 640,-157.5 726,-157.5 726,-88.5 640,-88.5\"/>\n<text text-anchor=\"middle\" x=\"683\" y=\"-142.3\" font-family=\"Times New Roman,serif\" font-size=\"14.00\">L</text>\n<polyline fill=\"none\" stroke=\"black\" points=\"640,-134.5 726,-134.5 \"/>\n<text text-anchor=\"middle\" x=\"683\" y=\"-119.3\" font-family=\"Times New Roman,serif\" font-size=\"14.00\">data &#45;8.0000</text>\n<polyline fill=\"none\" stroke=\"black\" points=\"640,-111.5 726,-111.5 \"/>\n<text text-anchor=\"middle\" x=\"683\" y=\"-96.3\" font-family=\"Times New Roman,serif\" font-size=\"14.00\">grad 1.0000</text>\n</g>\n<!-- 1446804679632*&#45;&gt;1446804679632 -->\n<g id=\"edge3\" class=\"edge\"><title>1446804679632*&#45;&gt;1446804679632</title>\n<path fill=\"none\" stroke=\"black\" d=\"M604.244,-123C612.113,-123 621.036,-123 629.96,-123\"/>\n<polygon fill=\"black\" stroke=\"black\" points=\"629.98,-126.5 639.98,-123 629.98,-119.5 629.98,-126.5\"/>\n</g>\n</g>\n</svg>\n",
      "text/plain": "<graphviz.graphs.Digraph at 0x150dd12e390>"
     },
     "execution_count": 336,
     "metadata": {},
     "output_type": "execute_result"
    }
   ],
   "source": [
    "from graphviz import Digraph\n",
    "# Ran these 2 lines once and it made it work, even when adding manually didn't *shrug*\n",
    "# import os\n",
    "# os.environ[\"PATH\"] += os.pathsep + 'C:\\\\Program Files (x86)\\\\Graphviz2.38\\\\bin'\n",
    "\n",
    "def trace(root):\n",
    "  # builds a set of all nodes and edges in a graph\n",
    "  nodes, edges = set(), set()\n",
    "  def build(v):\n",
    "    if v not in nodes:\n",
    "      nodes.add(v)\n",
    "      for child in v._prev:\n",
    "        edges.add((child, v))\n",
    "        build(child)\n",
    "  build(root)\n",
    "  return nodes, edges\n",
    "\n",
    "def draw_dot(root):\n",
    "  dot = Digraph(format='svg', graph_attr={'rankdir': 'LR'}) # LR = left to right\n",
    "\n",
    "  nodes, edges = trace(root)\n",
    "  for n in nodes:\n",
    "    uid = str(id(n))\n",
    "    # for any value in the graph, create a rectangular ('record') node for it\n",
    "    dot.node(name = uid, label = \" %s | data %.4f | grad %.4f\" % (n.label, n.data, n.grad), shape='record')\n",
    "    if n._op:\n",
    "      # if this value is a result of some operation, create an op node for it\n",
    "      dot.node(name = uid + n._op, label = n._op)\n",
    "      # and connect this node to it\n",
    "      dot.edge(uid + n._op, uid)\n",
    "\n",
    "  for n1, n2 in edges:\n",
    "    # connect n1 to the op node of n2\n",
    "    dot.edge(str(id(n1)), str(id(n2)) + n2._op)\n",
    "\n",
    "  return dot\n",
    "\n",
    "L.grad = 1\n",
    "L.backward()\n",
    "draw_dot(L)"
   ],
   "metadata": {
    "collapsed": false,
    "ExecuteTime": {
     "end_time": "2024-03-02T23:35:03.479423500Z",
     "start_time": "2024-03-02T23:35:03.234203100Z"
    }
   }
  },
  {
   "cell_type": "code",
   "execution_count": 337,
   "outputs": [],
   "source": [
    "\n",
    "###Chain rule, how is L affected by e? b? a?\n",
    "\n",
    "# dl/de = dl/dd * dd/de = -2 * 1\n",
    "# dl/da = dl/dd * dd/de * de/da = -2 * 1 * -3\n",
    "#plus nodes always have gradient of 1, so it just routes the gradient to the next node\n",
    "\n",
    "def lol():\n",
    "    h = 0.0001\n",
    "\n",
    "    a = Value(2.0, label='a')\n",
    "    b = Value(-3.0, label='b')\n",
    "    c = Value(10.0, label='c')\n",
    "    e = a*b; e.label = 'e'\n",
    "    d = e+c; d.label = 'd'\n",
    "    f = Value(-2.0, label='f')\n",
    "    l = d * f; l.label = 'l'\n",
    "    L1 = l.data\n",
    "\n",
    "    a = Value(2.0 + h, label='a')\n",
    "    b = Value(-3.0, label='b')\n",
    "    c = Value(10.0, label='c')\n",
    "    e = a*b; e.label = 'e'\n",
    "    d = e+c; d.label = 'd'\n",
    "    f = Value(-2.0, label='f')\n",
    "    l = d * f; l.label = 'l'\n",
    "    L2 = l.data\n",
    "\n",
    "    print((L2 - L1)/h)"
   ],
   "metadata": {
    "collapsed": false,
    "ExecuteTime": {
     "end_time": "2024-03-02T23:35:03.479423500Z",
     "start_time": "2024-03-02T23:35:03.375406200Z"
    }
   }
  },
  {
   "cell_type": "code",
   "execution_count": 338,
   "outputs": [
    {
     "data": {
      "text/plain": "<Figure size 640x480 with 1 Axes>",
      "image/png": "[encoded data removed]"
     },
     "metadata": {},
     "output_type": "display_data"
    }
   ],
   "source": [
    "# 53min - squashing function\n",
    "plt.plot(np.arange(-5,5,0.2), np.tanh(np.arange(-5,5,0.2))); plt.grid();"
   ],
   "metadata": {
    "collapsed": false,
    "ExecuteTime": {
     "end_time": "2024-03-02T23:35:03.794784800Z",
     "start_time": "2024-03-02T23:35:03.396088200Z"
    }
   }
  },
  {
   "cell_type": "code",
   "execution_count": 339,
   "outputs": [
    {
     "data": {
      "image/svg+xml": "<?xml version=\"1.0\" encoding=\"UTF-8\" standalone=\"no\"?>\n<!DOCTYPE svg PUBLIC \"-//W3C//DTD SVG 1.1//EN\"\n \"http://www.w3.org/Graphics/SVG/1.1/DTD/svg11.dtd\">\n<!-- Generated by graphviz version 2.38.0 (20140413.2041)\n -->\n<!-- Title: %3 Pages: 1 -->\n<svg width=\"957pt\" height=\"342pt\"\n viewBox=\"0.00 0.00 957.00 342.00\" xmlns=\"http://www.w3.org/2000/svg\" xmlns:xlink=\"http://www.w3.org/1999/xlink\">\n<g id=\"graph0\" class=\"graph\" transform=\"scale(1 1) rotate(0) translate(4 338)\">\n<title>%3</title>\n<polygon fill=\"white\" stroke=\"none\" points=\"-4,4 -4,-338 953,-338 953,4 -4,4\"/>\n<!-- 1446815656960 -->\n<g id=\"node1\" class=\"node\"><title>1446815656960</title>\n<polygon fill=\"none\" stroke=\"black\" points=\"425,-132.5 425,-201.5 531,-201.5 531,-132.5 425,-132.5\"/>\n<text text-anchor=\"middle\" x=\"478\" y=\"-186.3\" font-family=\"Times New Roman,serif\" font-size=\"14.00\">x1*w1 + x2*w2</text>\n<polyline fill=\"none\" stroke=\"black\" points=\"425,-178.5 531,-178.5 \"/>\n<text text-anchor=\"middle\" x=\"478\" y=\"-163.3\" font-family=\"Times New Roman,serif\" font-size=\"14.00\">data &#45;6.0000</text>\n<polyline fill=\"none\" stroke=\"black\" points=\"425,-155.5 531,-155.5 \"/>\n<text text-anchor=\"middle\" x=\"478\" y=\"-140.3\" font-family=\"Times New Roman,serif\" font-size=\"14.00\">grad 0.5000</text>\n</g>\n<!-- 1446815652592+ -->\n<g id=\"node7\" class=\"node\"><title>1446815652592+</title>\n<ellipse fill=\"none\" stroke=\"black\" cx=\"594\" cy=\"-211\" rx=\"27\" ry=\"18\"/>\n<text text-anchor=\"middle\" x=\"594\" y=\"-207.3\" font-family=\"Times New Roman,serif\" font-size=\"14.00\">+</text>\n</g>\n<!-- 1446815656960&#45;&gt;1446815652592+ -->\n<g id=\"edge13\" class=\"edge\"><title>1446815656960&#45;&gt;1446815652592+</title>\n<path fill=\"none\" stroke=\"black\" d=\"M531.329,-187.197C541.387,-191.079 551.641,-195.037 560.826,-198.582\"/>\n<polygon fill=\"black\" stroke=\"black\" points=\"559.724,-201.908 570.313,-202.244 562.244,-195.378 559.724,-201.908\"/>\n</g>\n<!-- 1446815656960+ -->\n<g id=\"node2\" class=\"node\"><title>1446815656960+</title>\n<ellipse fill=\"none\" stroke=\"black\" cx=\"362\" cy=\"-167\" rx=\"27\" ry=\"18\"/>\n<text text-anchor=\"middle\" x=\"362\" y=\"-163.3\" font-family=\"Times New Roman,serif\" font-size=\"14.00\">+</text>\n</g>\n<!-- 1446815656960+&#45;&gt;1446815656960 -->\n<g id=\"edge1\" class=\"edge\"><title>1446815656960+&#45;&gt;1446815656960</title>\n<path fill=\"none\" stroke=\"black\" d=\"M389.154,-167C396.891,-167 405.714,-167 414.713,-167\"/>\n<polygon fill=\"black\" stroke=\"black\" points=\"414.901,-170.5 424.901,-167 414.901,-163.5 414.901,-170.5\"/>\n</g>\n<!-- 1446818049024 -->\n<g id=\"node3\" class=\"node\"><title>1446818049024</title>\n<polygon fill=\"none\" stroke=\"black\" points=\"2,-264.5 2,-333.5 85,-333.5 85,-264.5 2,-264.5\"/>\n<text text-anchor=\"middle\" x=\"43.5\" y=\"-318.3\" font-family=\"Times New Roman,serif\" font-size=\"14.00\">w2</text>\n<polyline fill=\"none\" stroke=\"black\" points=\"2,-310.5 85,-310.5 \"/>\n<text text-anchor=\"middle\" x=\"43.5\" y=\"-295.3\" font-family=\"Times New Roman,serif\" font-size=\"14.00\">data 1.0000</text>\n<polyline fill=\"none\" stroke=\"black\" points=\"2,-287.5 85,-287.5 \"/>\n<text text-anchor=\"middle\" x=\"43.5\" y=\"-272.3\" font-family=\"Times New Roman,serif\" font-size=\"14.00\">grad 0.0000</text>\n</g>\n<!-- 1446815658016* -->\n<g id=\"node5\" class=\"node\"><title>1446815658016*</title>\n<ellipse fill=\"none\" stroke=\"black\" cx=\"150\" cy=\"-211\" rx=\"27\" ry=\"18\"/>\n<text text-anchor=\"middle\" x=\"150\" y=\"-207.3\" font-family=\"Times New Roman,serif\" font-size=\"14.00\">*</text>\n</g>\n<!-- 1446818049024&#45;&gt;1446815658016* -->\n<g id=\"edge10\" class=\"edge\"><title>1446818049024&#45;&gt;1446815658016*</title>\n<path fill=\"none\" stroke=\"black\" d=\"M85.2017,-264.725C98.6118,-253.432 113.09,-241.24 124.859,-231.329\"/>\n<polygon fill=\"black\" stroke=\"black\" points=\"127.133,-233.99 132.528,-224.871 122.625,-228.635 127.133,-233.99\"/>\n</g>\n<!-- 1446815658016 -->\n<g id=\"node4\" class=\"node\"><title>1446815658016</title>\n<polygon fill=\"none\" stroke=\"black\" points=\"214.5,-176.5 214.5,-245.5 297.5,-245.5 297.5,-176.5 214.5,-176.5\"/>\n<text text-anchor=\"middle\" x=\"256\" y=\"-230.3\" font-family=\"Times New Roman,serif\" font-size=\"14.00\">x2*w2</text>\n<polyline fill=\"none\" stroke=\"black\" points=\"214.5,-222.5 297.5,-222.5 \"/>\n<text text-anchor=\"middle\" x=\"256\" y=\"-207.3\" font-family=\"Times New Roman,serif\" font-size=\"14.00\">data 0.0000</text>\n<polyline fill=\"none\" stroke=\"black\" points=\"214.5,-199.5 297.5,-199.5 \"/>\n<text text-anchor=\"middle\" x=\"256\" y=\"-184.3\" font-family=\"Times New Roman,serif\" font-size=\"14.00\">grad 0.5000</text>\n</g>\n<!-- 1446815658016&#45;&gt;1446815656960+ -->\n<g id=\"edge8\" class=\"edge\"><title>1446815658016&#45;&gt;1446815656960+</title>\n<path fill=\"none\" stroke=\"black\" d=\"M297.507,-193.862C308.139,-189.364 319.447,-184.58 329.528,-180.315\"/>\n<polygon fill=\"black\" stroke=\"black\" points=\"330.909,-183.531 338.755,-176.411 328.182,-177.084 330.909,-183.531\"/>\n</g>\n<!-- 1446815658016*&#45;&gt;1446815658016 -->\n<g id=\"edge2\" class=\"edge\"><title>1446815658016*&#45;&gt;1446815658016</title>\n<path fill=\"none\" stroke=\"black\" d=\"M177.244,-211C185.463,-211 194.831,-211 204.15,-211\"/>\n<polygon fill=\"black\" stroke=\"black\" points=\"204.186,-214.5 214.186,-211 204.186,-207.5 204.186,-214.5\"/>\n</g>\n<!-- 1446815652592 -->\n<g id=\"node6\" class=\"node\"><title>1446815652592</title>\n<polygon fill=\"none\" stroke=\"black\" points=\"657,-176.5 657,-245.5 740,-245.5 740,-176.5 657,-176.5\"/>\n<text text-anchor=\"middle\" x=\"698.5\" y=\"-230.3\" font-family=\"Times New Roman,serif\" font-size=\"14.00\">n</text>\n<polyline fill=\"none\" stroke=\"black\" points=\"657,-222.5 740,-222.5 \"/>\n<text text-anchor=\"middle\" x=\"698.5\" y=\"-207.3\" font-family=\"Times New Roman,serif\" font-size=\"14.00\">data 0.8814</text>\n<polyline fill=\"none\" stroke=\"black\" points=\"657,-199.5 740,-199.5 \"/>\n<text text-anchor=\"middle\" x=\"698.5\" y=\"-184.3\" font-family=\"Times New Roman,serif\" font-size=\"14.00\">grad 0.5000</text>\n</g>\n<!-- 1446819181488tanh -->\n<g id=\"node14\" class=\"node\"><title>1446819181488tanh</title>\n<ellipse fill=\"none\" stroke=\"black\" cx=\"803\" cy=\"-211\" rx=\"27\" ry=\"18\"/>\n<text text-anchor=\"middle\" x=\"803\" y=\"-207.3\" font-family=\"Times New Roman,serif\" font-size=\"14.00\">tanh</text>\n</g>\n<!-- 1446815652592&#45;&gt;1446819181488tanh -->\n<g id=\"edge14\" class=\"edge\"><title>1446815652592&#45;&gt;1446819181488tanh</title>\n<path fill=\"none\" stroke=\"black\" d=\"M740.011,-211C748.509,-211 757.42,-211 765.752,-211\"/>\n<polygon fill=\"black\" stroke=\"black\" points=\"765.92,-214.5 775.919,-211 765.919,-207.5 765.92,-214.5\"/>\n</g>\n<!-- 1446815652592+&#45;&gt;1446815652592 -->\n<g id=\"edge3\" class=\"edge\"><title>1446815652592+&#45;&gt;1446815652592</title>\n<path fill=\"none\" stroke=\"black\" d=\"M621.13,-211C628.889,-211 637.669,-211 646.44,-211\"/>\n<polygon fill=\"black\" stroke=\"black\" points=\"646.673,-214.5 656.673,-211 646.673,-207.5 646.673,-214.5\"/>\n</g>\n<!-- 1446815655712 -->\n<g id=\"node8\" class=\"node\"><title>1446815655712</title>\n<polygon fill=\"none\" stroke=\"black\" points=\"213,-88.5 213,-157.5 299,-157.5 299,-88.5 213,-88.5\"/>\n<text text-anchor=\"middle\" x=\"256\" y=\"-142.3\" font-family=\"Times New Roman,serif\" font-size=\"14.00\">x1*w1</text>\n<polyline fill=\"none\" stroke=\"black\" points=\"213,-134.5 299,-134.5 \"/>\n<text text-anchor=\"middle\" x=\"256\" y=\"-119.3\" font-family=\"Times New Roman,serif\" font-size=\"14.00\">data &#45;6.0000</text>\n<polyline fill=\"none\" stroke=\"black\" points=\"213,-111.5 299,-111.5 \"/>\n<text text-anchor=\"middle\" x=\"256\" y=\"-96.3\" font-family=\"Times New Roman,serif\" font-size=\"14.00\">grad 0.5000</text>\n</g>\n<!-- 1446815655712&#45;&gt;1446815656960+ -->\n<g id=\"edge12\" class=\"edge\"><title>1446815655712&#45;&gt;1446815656960+</title>\n<path fill=\"none\" stroke=\"black\" d=\"M299.001,-140.77C309.126,-145.053 319.777,-149.56 329.339,-153.605\"/>\n<polygon fill=\"black\" stroke=\"black\" points=\"328.268,-156.952 338.842,-157.625 330.996,-150.506 328.268,-156.952\"/>\n</g>\n<!-- 1446815655712* -->\n<g id=\"node9\" class=\"node\"><title>1446815655712*</title>\n<ellipse fill=\"none\" stroke=\"black\" cx=\"150\" cy=\"-123\" rx=\"27\" ry=\"18\"/>\n<text text-anchor=\"middle\" x=\"150\" y=\"-119.3\" font-family=\"Times New Roman,serif\" font-size=\"14.00\">*</text>\n</g>\n<!-- 1446815655712*&#45;&gt;1446815655712 -->\n<g id=\"edge4\" class=\"edge\"><title>1446815655712*&#45;&gt;1446815655712</title>\n<path fill=\"none\" stroke=\"black\" d=\"M177.244,-123C185.113,-123 194.036,-123 202.96,-123\"/>\n<polygon fill=\"black\" stroke=\"black\" points=\"202.98,-126.5 212.98,-123 202.98,-119.5 202.98,-126.5\"/>\n</g>\n<!-- 1446818767664 -->\n<g id=\"node10\" class=\"node\"><title>1446818767664</title>\n<polygon fill=\"none\" stroke=\"black\" points=\"0,-88.5 0,-157.5 87,-157.5 87,-88.5 0,-88.5\"/>\n<text text-anchor=\"middle\" x=\"43.5\" y=\"-142.3\" font-family=\"Times New Roman,serif\" font-size=\"14.00\">x1</text>\n<polyline fill=\"none\" stroke=\"black\" points=\"0,-134.5 87,-134.5 \"/>\n<text text-anchor=\"middle\" x=\"43.5\" y=\"-119.3\" font-family=\"Times New Roman,serif\" font-size=\"14.00\">data 2.0000</text>\n<polyline fill=\"none\" stroke=\"black\" points=\"0,-111.5 87,-111.5 \"/>\n<text text-anchor=\"middle\" x=\"43.5\" y=\"-96.3\" font-family=\"Times New Roman,serif\" font-size=\"14.00\">grad &#45;1.5000</text>\n</g>\n<!-- 1446818767664&#45;&gt;1446815655712* -->\n<g id=\"edge7\" class=\"edge\"><title>1446818767664&#45;&gt;1446815655712*</title>\n<path fill=\"none\" stroke=\"black\" d=\"M87.0042,-123C95.5066,-123 104.366,-123 112.638,-123\"/>\n<polygon fill=\"black\" stroke=\"black\" points=\"112.731,-126.5 122.731,-123 112.731,-119.5 112.731,-126.5\"/>\n</g>\n<!-- 1446810763584 -->\n<g id=\"node11\" class=\"node\"><title>1446810763584</title>\n<polygon fill=\"none\" stroke=\"black\" points=\"0.5,-0.5 0.5,-69.5 86.5,-69.5 86.5,-0.5 0.5,-0.5\"/>\n<text text-anchor=\"middle\" x=\"43.5\" y=\"-54.3\" font-family=\"Times New Roman,serif\" font-size=\"14.00\">w1</text>\n<polyline fill=\"none\" stroke=\"black\" points=\"0.5,-46.5 86.5,-46.5 \"/>\n<text text-anchor=\"middle\" x=\"43.5\" y=\"-31.3\" font-family=\"Times New Roman,serif\" font-size=\"14.00\">data &#45;3.0000</text>\n<polyline fill=\"none\" stroke=\"black\" points=\"0.5,-23.5 86.5,-23.5 \"/>\n<text text-anchor=\"middle\" x=\"43.5\" y=\"-8.3\" font-family=\"Times New Roman,serif\" font-size=\"14.00\">grad 1.0000</text>\n</g>\n<!-- 1446810763584&#45;&gt;1446815655712* -->\n<g id=\"edge6\" class=\"edge\"><title>1446810763584&#45;&gt;1446815655712*</title>\n<path fill=\"none\" stroke=\"black\" d=\"M85.5012,-69.5274C98.7528,-80.6865 113.018,-92.6991 124.664,-102.506\"/>\n<polygon fill=\"black\" stroke=\"black\" points=\"122.725,-105.45 132.629,-109.214 127.234,-100.095 122.725,-105.45\"/>\n</g>\n<!-- 1446816122736 -->\n<g id=\"node12\" class=\"node\"><title>1446816122736</title>\n<polygon fill=\"none\" stroke=\"black\" points=\"2,-176.5 2,-245.5 85,-245.5 85,-176.5 2,-176.5\"/>\n<text text-anchor=\"middle\" x=\"43.5\" y=\"-230.3\" font-family=\"Times New Roman,serif\" font-size=\"14.00\">x2</text>\n<polyline fill=\"none\" stroke=\"black\" points=\"2,-222.5 85,-222.5 \"/>\n<text text-anchor=\"middle\" x=\"43.5\" y=\"-207.3\" font-family=\"Times New Roman,serif\" font-size=\"14.00\">data 0.0000</text>\n<polyline fill=\"none\" stroke=\"black\" points=\"2,-199.5 85,-199.5 \"/>\n<text text-anchor=\"middle\" x=\"43.5\" y=\"-184.3\" font-family=\"Times New Roman,serif\" font-size=\"14.00\">grad 0.5000</text>\n</g>\n<!-- 1446816122736&#45;&gt;1446815658016* -->\n<g id=\"edge11\" class=\"edge\"><title>1446816122736&#45;&gt;1446815658016*</title>\n<path fill=\"none\" stroke=\"black\" d=\"M85.2017,-211C94.2635,-211 103.813,-211 112.685,-211\"/>\n<polygon fill=\"black\" stroke=\"black\" points=\"112.719,-214.5 122.719,-211 112.719,-207.5 112.719,-214.5\"/>\n</g>\n<!-- 1446819181488 -->\n<g id=\"node13\" class=\"node\"><title>1446819181488</title>\n<polygon fill=\"none\" stroke=\"black\" points=\"866,-176.5 866,-245.5 949,-245.5 949,-176.5 866,-176.5\"/>\n<text text-anchor=\"middle\" x=\"907.5\" y=\"-230.3\" font-family=\"Times New Roman,serif\" font-size=\"14.00\">o</text>\n<polyline fill=\"none\" stroke=\"black\" points=\"866,-222.5 949,-222.5 \"/>\n<text text-anchor=\"middle\" x=\"907.5\" y=\"-207.3\" font-family=\"Times New Roman,serif\" font-size=\"14.00\">data 0.7071</text>\n<polyline fill=\"none\" stroke=\"black\" points=\"866,-199.5 949,-199.5 \"/>\n<text text-anchor=\"middle\" x=\"907.5\" y=\"-184.3\" font-family=\"Times New Roman,serif\" font-size=\"14.00\">grad 1.0000</text>\n</g>\n<!-- 1446819181488tanh&#45;&gt;1446819181488 -->\n<g id=\"edge5\" class=\"edge\"><title>1446819181488tanh&#45;&gt;1446819181488</title>\n<path fill=\"none\" stroke=\"black\" d=\"M830.13,-211C837.889,-211 846.669,-211 855.44,-211\"/>\n<polygon fill=\"black\" stroke=\"black\" points=\"855.673,-214.5 865.673,-211 855.673,-207.5 855.673,-214.5\"/>\n</g>\n<!-- 1446818046960 -->\n<g id=\"node15\" class=\"node\"><title>1446818046960</title>\n<polygon fill=\"none\" stroke=\"black\" points=\"436.5,-220.5 436.5,-289.5 519.5,-289.5 519.5,-220.5 436.5,-220.5\"/>\n<text text-anchor=\"middle\" x=\"478\" y=\"-274.3\" font-family=\"Times New Roman,serif\" font-size=\"14.00\">b</text>\n<polyline fill=\"none\" stroke=\"black\" points=\"436.5,-266.5 519.5,-266.5 \"/>\n<text text-anchor=\"middle\" x=\"478\" y=\"-251.3\" font-family=\"Times New Roman,serif\" font-size=\"14.00\">data 6.8814</text>\n<polyline fill=\"none\" stroke=\"black\" points=\"436.5,-243.5 519.5,-243.5 \"/>\n<text text-anchor=\"middle\" x=\"478\" y=\"-228.3\" font-family=\"Times New Roman,serif\" font-size=\"14.00\">grad 0.5000</text>\n</g>\n<!-- 1446818046960&#45;&gt;1446815652592+ -->\n<g id=\"edge9\" class=\"edge\"><title>1446818046960&#45;&gt;1446815652592+</title>\n<path fill=\"none\" stroke=\"black\" d=\"M519.513,-239.363C533.079,-234.128 548.007,-228.366 560.845,-223.411\"/>\n<polygon fill=\"black\" stroke=\"black\" points=\"562.129,-226.667 570.198,-219.801 559.608,-220.136 562.129,-226.667\"/>\n</g>\n</g>\n</svg>\n",
      "text/plain": "<graphviz.graphs.Digraph at 0x150dd24a330>"
     },
     "execution_count": 339,
     "metadata": {},
     "output_type": "execute_result"
    }
   ],
   "source": [
    "#55min\n",
    "x1 = Value(2.0, label='x1')\n",
    "x2 = Value(0.0, label='x2')\n",
    "# weights w1,w2\n",
    "w1 = Value(-3.0, label='w1')\n",
    "w2 = Value(1.0, label='w2')\n",
    "# bias of the neuron\n",
    "b = Value(6.8813735870195432, label='b')\n",
    "# x1*w1 + x2*w2 + b\n",
    "x1w1 = x1*w1; x1w1.label = 'x1*w1'\n",
    "x2w2 = x2*w2; x2w2.label = 'x2*w2'\n",
    "x1w1x2w2 = x1w1 + x2w2; x1w1x2w2.label = 'x1*w1 + x2*w2'\n",
    "n = x1w1x2w2 + b; n.label = 'n'\n",
    "o = n.tanh(); o.label = 'o'\n",
    "\n",
    "o.backward()\n",
    "draw_dot(o)"
   ],
   "metadata": {
    "collapsed": false,
    "ExecuteTime": {
     "end_time": "2024-03-02T23:35:03.977057400Z",
     "start_time": "2024-03-02T23:35:03.802807400Z"
    }
   }
  },
  {
   "cell_type": "code",
   "execution_count": 340,
   "outputs": [
    {
     "name": "stdout",
     "output_type": "stream",
     "text": [
      "0.7071066904050358\n",
      "---\n",
      "x2 0.5000001283844369\n",
      "w2 0.0\n",
      "x1 -1.5000003851533106\n",
      "w1 1.0000002567688737\n"
     ]
    }
   ],
   "source": [
    "import torch\n",
    "\n",
    "x1 = torch.Tensor([2.0]).double();\n",
    "x1.requires_grad = True\n",
    "x2 = torch.Tensor([0.0]).double();\n",
    "x2.requires_grad = True\n",
    "w1 = torch.Tensor([-3.0]).double();\n",
    "w1.requires_grad = True\n",
    "w2 = torch.Tensor([1.0]).double();\n",
    "w2.requires_grad = True\n",
    "b = torch.Tensor([6.8813735870195432]).double();\n",
    "b.requires_grad = True\n",
    "n = x1 * w1 + x2 * w2 + b\n",
    "o = torch.tanh(n)\n",
    "\n",
    "print(o.data.item())\n",
    "o.backward()\n",
    "\n",
    "print('---')\n",
    "print('x2', x2.grad.item())\n",
    "print('w2', w2.grad.item())\n",
    "print('x1', x1.grad.item())\n",
    "print('w1', w1.grad.item())"
   ],
   "metadata": {
    "collapsed": false,
    "ExecuteTime": {
     "end_time": "2024-03-02T23:35:03.977057400Z",
     "start_time": "2024-03-02T23:35:03.933960200Z"
    }
   }
  },
  {
   "cell_type": "code",
   "execution_count": 341,
   "outputs": [],
   "source": [
    "import random\n",
    "\n",
    "\n",
    "class Neuron:\n",
    "\n",
    "    def __init__(self, nin):\n",
    "        self.w = [Value(random.uniform(-1, 1)) for _ in range(nin)]\n",
    "        self.b = Value(random.uniform(-1, 1))\n",
    "\n",
    "    def __call__(self, x):\n",
    "        # w * x + b\n",
    "        act = sum((wi * xi for wi, xi in zip(self.w, x)), self.b)\n",
    "        out = act.tanh()\n",
    "        return out\n",
    "\n",
    "    def parameters(self):\n",
    "        return self.w + [self.b]\n",
    "\n",
    "\n",
    "class Layer:\n",
    "\n",
    "    def __init__(self, nin, nout):\n",
    "        self.neurons = [Neuron(nin) for _ in range(nout)]\n",
    "\n",
    "    def __call__(self, x):\n",
    "        outs = [n(x) for n in self.neurons]\n",
    "        return outs[0] if len(outs) == 1 else outs\n",
    "\n",
    "    def parameters(self):\n",
    "        return [p for neuron in self.neurons for p in neuron.parameters()]\n",
    "\n",
    "\n",
    "class MLP:\n",
    "\n",
    "    def __init__(self, nin, nouts):\n",
    "        sz = [nin] + nouts\n",
    "        self.layers = [Layer(sz[i], sz[i + 1]) for i in range(len(nouts))]\n",
    "\n",
    "    def __call__(self, x):\n",
    "        for layer in self.layers:\n",
    "            x = layer(x)\n",
    "        return x\n",
    "\n",
    "    def parameters(self):\n",
    "        return [p for layer in self.layers for p in layer.parameters()]"
   ],
   "metadata": {
    "collapsed": false,
    "ExecuteTime": {
     "end_time": "2024-03-02T23:35:03.977057400Z",
     "start_time": "2024-03-02T23:35:03.958126800Z"
    }
   }
  },
  {
   "cell_type": "code",
   "execution_count": 342,
   "outputs": [
    {
     "data": {
      "text/plain": "Value(data=0.7752656751351278)"
     },
     "execution_count": 342,
     "metadata": {},
     "output_type": "execute_result"
    }
   ],
   "source": [
    "x = [2.0, 3.0, -1.0]\n",
    "n = MLP(3, [4, 4, 1])\n",
    "n(x)\n",
    "# n.parameters()"
   ],
   "metadata": {
    "collapsed": false,
    "ExecuteTime": {
     "end_time": "2024-03-02T23:35:03.983456Z",
     "start_time": "2024-03-02T23:35:03.969202700Z"
    }
   }
  },
  {
   "cell_type": "code",
   "execution_count": 343,
   "outputs": [
    {
     "data": {
      "text/plain": "[Value(data=0.7752656751351278),\n Value(data=0.659559417572283),\n Value(data=0.6571348947267692),\n Value(data=0.3936218386800274)]"
     },
     "execution_count": 343,
     "metadata": {},
     "output_type": "execute_result"
    }
   ],
   "source": [
    "# 1:52min\n",
    "xs = [\n",
    "  [2.0, 3.0, -1.0],\n",
    "  [3.0, -1.0, 0.5],\n",
    "  [0.5, 1.0, 1.0],\n",
    "  [1.0, 1.0, -1.0],\n",
    "]\n",
    "ys = [1.0, -1.0, -1.0, 1.0] # desired targets\n",
    "ypred = [n(x) for x in xs]\n",
    "ypred #want the first to be 1.0, 2nd to be -1.0, 3rd to be -1.0, etc..."
   ],
   "metadata": {
    "collapsed": false,
    "ExecuteTime": {
     "end_time": "2024-03-02T23:35:04.114644600Z",
     "start_time": "2024-03-02T23:35:04.000980Z"
    }
   }
  },
  {
   "cell_type": "code",
   "execution_count": 344,
   "outputs": [
    {
     "name": "stdout",
     "output_type": "stream",
     "text": [
      "Value(data=5.918433511072216)\n",
      "%4.f 0.08428177782160204\n",
      "Value(data=3.751561657376042)\n",
      "%4.f -0.667375178852718\n",
      "Value(data=3.323225802656968)\n",
      "%4.f 0.5411337107825206\n",
      "Value(data=3.208910250207415)\n",
      "%4.f -1.1545223053324005\n",
      "Value(data=2.1629126451840675)\n",
      "%4.f 1.2865074287853229\n",
      "Value(data=0.26729303324448284)\n",
      "%4.f -0.2661806529914858\n",
      "Value(data=0.10868791459198747)\n",
      "%4.f 0.14947410521741203\n",
      "Value(data=0.07802184224638593)\n",
      "%4.f 0.004302541717801079\n",
      "Value(data=0.060620651841047285)\n",
      "%4.f 0.004069759139749461\n",
      "Value(data=0.049374726826446586)\n",
      "%4.f 0.0030591514678060747\n"
     ]
    }
   ],
   "source": [
    "t = 10\n",
    "for k in range(t):\n",
    "  # forward pass\n",
    "  ypred = [n(x) for x in xs]\n",
    "  loss = sum((yout - ygt)**2 for ygt, yout in zip(ys, ypred)) #1:52min\n",
    "  print(loss)\n",
    "\n",
    "  # backward pass\n",
    "  oldpgrad = n.parameters()[0].grad\n",
    "  for p in n.parameters():\n",
    "    p.grad = 0.0\n",
    "  loss.backward()\n",
    "\n",
    "  # update\n",
    "  for p in n.parameters():\n",
    "    p.data += -0.1 * p.grad\n",
    "  print(\"%4.f\", oldpgrad - n.parameters()[0].grad)\n",
    "\n",
    "  if k == t:\n",
    "      print(k, loss.data)"
   ],
   "metadata": {
    "collapsed": false,
    "ExecuteTime": {
     "end_time": "2024-03-02T23:35:04.114644600Z",
     "start_time": "2024-03-02T23:35:04.015357500Z"
    }
   }
  },
  {
   "cell_type": "code",
   "execution_count": 345,
   "outputs": [
    {
     "data": {
      "text/plain": "[Value(data=0.9549467690106304),\n Value(data=-0.9444729604989273),\n Value(data=-0.839480053286961),\n Value(data=0.8640035743287549)]"
     },
     "execution_count": 345,
     "metadata": {},
     "output_type": "execute_result"
    }
   ],
   "source": [
    "ypred"
   ],
   "metadata": {
    "collapsed": false,
    "ExecuteTime": {
     "end_time": "2024-03-02T23:35:04.114644600Z",
     "start_time": "2024-03-02T23:35:04.047104500Z"
    }
   }
  },
  {
   "cell_type": "code",
   "execution_count": 345,
   "outputs": [],
   "source": [],
   "metadata": {
    "collapsed": false,
    "ExecuteTime": {
     "end_time": "2024-03-02T23:35:04.114644600Z",
     "start_time": "2024-03-02T23:35:04.065888100Z"
    }
   }
  }
 ],
 "metadata": {
  "kernelspec": {
   "display_name": "Python 3",
   "language": "python",
   "name": "python3"
  },
  "language_info": {
   "codemirror_mode": {
    "name": "ipython",
    "version": 2
   },
   "file_extension": ".py",
   "mimetype": "text/x-python",
   "name": "python",
   "nbconvert_exporter": "python",
   "pygments_lexer": "ipython2",
   "version": "2.7.6"
  }
 },
 "nbformat": 4,
 "nbformat_minor": 0
}
