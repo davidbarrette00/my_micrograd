{
 "cells": [
  {
   "cell_type": "code",
   "execution_count": 29,
   "metadata": {
    "scrolled": true,
    "ExecuteTime": {
     "end_time": "2024-02-19T23:15:47.692689700Z",
     "start_time": "2024-02-19T23:15:47.588978Z"
    }
   },
   "outputs": [
    {
     "name": "stdout",
     "output_type": "stream",
     "text": [
      "cpu\n"
     ]
    }
   ],
   "source": [
    "import torch\n",
    "import torch.nn as nn\n",
    "from torch.nn import functional as F\n",
    "import numpy as np\n",
    "import time\n",
    "device = 'cuda' if torch.cuda.is_available() else 'cpu'\n",
    "print(device)"
   ]
  },
  {
   "cell_type": "code",
   "execution_count": 47,
   "metadata": {
    "scrolled": true,
    "ExecuteTime": {
     "end_time": "2024-02-21T03:33:21.195440900Z",
     "start_time": "2024-02-21T03:33:20.183740600Z"
    }
   },
   "outputs": [
    {
     "name": "stdout",
     "output_type": "stream",
     "text": [
      "0.00187850\n",
      "CPU times: total: 0 ns\n",
      "Wall time: 3.37 ms\n"
     ]
    },
    {
     "data": {
      "text/plain": "tensor([[1., 1., 1.],\n        [1., 1., 1.]])"
     },
     "execution_count": 47,
     "metadata": {},
     "output_type": "execute_result"
    }
   ],
   "source": [
    "%%time\n",
    "start_time = time.time()\n",
    "# matrix operations here\n",
    "zeros = torch.zeros(1, 1)\n",
    "end_time = time.time()\n",
    "\n",
    "elapsed_time = end_time - start_time\n",
    "print(f\"{elapsed_time:.8f}\")\n",
    "\n",
    "temp = torch.ones(2,3)\n",
    "temp"
   ]
  },
  {
   "cell_type": "markdown",
   "metadata": {},
   "source": [
    "using the time library to record execution time\n",
    "%%time to record the time taken for the cell to execute"
   ]
  },
  {
   "cell_type": "code",
   "execution_count": 31,
   "metadata": {
    "ExecuteTime": {
     "end_time": "2024-02-19T23:15:51.329524900Z",
     "start_time": "2024-02-19T23:15:47.635691700Z"
    }
   },
   "outputs": [
    {
     "name": "stdout",
     "output_type": "stream",
     "text": [
      "0.28447795\n",
      "0.17150688\n"
     ]
    }
   ],
   "source": [
    "torch_rand1 = torch.rand(100, 100, 100, 100).to(device)\n",
    "torch_rand2 = torch.rand(100, 100, 100, 100).to(device)\n",
    "np_rand1 = torch.rand(100, 100, 100, 100)\n",
    "np_rand2 = torch.rand(100, 100, 100, 100)\n",
    "\n",
    "start_time = time.time()\n",
    "\n",
    "rand = (torch_rand1 @ torch_rand2)\n",
    "\n",
    "end_time = time.time()\n",
    "\n",
    "elapsed_time = end_time - start_time\n",
    "print(f\"{elapsed_time:.8f}\")\n",
    "\n",
    "\n",
    "start_time = time.time()\n",
    "\n",
    "rand = np.multiply(np_rand1, np_rand2)\n",
    "end_time = time.time()\n",
    "elapsed_time = end_time - start_time\n",
    "print(f\"{elapsed_time:.8f}\")"
   ]
  },
  {
   "cell_type": "code",
   "execution_count": 50,
   "metadata": {
    "ExecuteTime": {
     "end_time": "2024-02-21T05:14:52.001621600Z",
     "start_time": "2024-02-21T05:14:51.932840500Z"
    }
   },
   "outputs": [
    {
     "name": "stdout",
     "output_type": "stream",
     "text": [
      "tensor([1, 2, 0, 2, 2, 2, 1, 0, 2, 2])\n"
     ]
    }
   ],
   "source": [
    "# embeddings, torch.stack, torch.multinomial, torch.tril, torch.triu, input.T / input.transpose, nn.Linear, torch.cat, F.softmax (show all the examples of functions/methods with pytorch docs)\n",
    "\n",
    "\n",
    "# Define a probability tensor\n",
    "probabilities = torch.tensor([0.1, 0.9])\n",
    "# 10% or 0.1 => 0, 90% or 0.9 => 1. each probability points to the index of the probability in the tensor\n",
    "# Draw 5 samples from the multinomial distribution\n",
    "samples = torch.multinomial(probabilities, num_samples=10, replacement=True)\n",
    "print(samples)\n"
   ]
  },
  {
   "cell_type": "code",
   "execution_count": 33,
   "metadata": {
    "scrolled": true,
    "ExecuteTime": {
     "end_time": "2024-02-19T23:15:51.466376500Z",
     "start_time": "2024-02-19T23:15:51.376521600Z"
    }
   },
   "outputs": [
    {
     "data": {
      "text/plain": "tensor([1, 2, 3, 4, 5])"
     },
     "execution_count": 33,
     "metadata": {},
     "output_type": "execute_result"
    }
   ],
   "source": [
    "tensor = torch.tensor([1, 2, 3, 4])\n",
    "out = torch.cat((tensor, torch.tensor([5])), dim=0)\n",
    "out"
   ]
  },
  {
   "cell_type": "code",
   "execution_count": 34,
   "metadata": {
    "scrolled": true,
    "ExecuteTime": {
     "end_time": "2024-02-19T23:15:51.481379300Z",
     "start_time": "2024-02-19T23:15:51.423411600Z"
    }
   },
   "outputs": [
    {
     "data": {
      "text/plain": "tensor([[1., 0., 0., 0., 0.],\n        [1., 1., 0., 0., 0.],\n        [1., 1., 1., 0., 0.],\n        [1., 1., 1., 1., 0.],\n        [1., 1., 1., 1., 1.]])"
     },
     "execution_count": 34,
     "metadata": {},
     "output_type": "execute_result"
    }
   ],
   "source": [
    "out = torch.tril(torch.ones(5, 5))\n",
    "out"
   ]
  },
  {
   "cell_type": "code",
   "execution_count": 35,
   "metadata": {
    "ExecuteTime": {
     "end_time": "2024-02-19T23:15:51.482378900Z",
     "start_time": "2024-02-19T23:15:51.456380200Z"
    }
   },
   "outputs": [
    {
     "data": {
      "text/plain": "tensor([[1., 1., 1., 1., 1.],\n        [0., 1., 1., 1., 1.],\n        [0., 0., 1., 1., 1.],\n        [0., 0., 0., 1., 1.],\n        [0., 0., 0., 0., 1.]])"
     },
     "execution_count": 35,
     "metadata": {},
     "output_type": "execute_result"
    }
   ],
   "source": [
    "out = torch.triu(torch.ones(5, 5))\n",
    "out"
   ]
  },
  {
   "cell_type": "code",
   "execution_count": 36,
   "metadata": {
    "scrolled": false,
    "ExecuteTime": {
     "end_time": "2024-02-19T23:15:51.573376800Z",
     "start_time": "2024-02-19T23:15:51.473379400Z"
    }
   },
   "outputs": [
    {
     "data": {
      "text/plain": "tensor([[0., -inf, -inf, -inf, -inf],\n        [0., 0., -inf, -inf, -inf],\n        [0., 0., 0., -inf, -inf],\n        [0., 0., 0., 0., -inf],\n        [0., 0., 0., 0., 0.]])"
     },
     "execution_count": 36,
     "metadata": {},
     "output_type": "execute_result"
    }
   ],
   "source": [
    "out = torch.zeros(5, 5).masked_fill(torch.tril(torch.ones(5, 5)) == 0, float('-inf'))\n",
    "out"
   ]
  },
  {
   "cell_type": "code",
   "execution_count": 37,
   "metadata": {
    "ExecuteTime": {
     "end_time": "2024-02-19T23:15:51.580379400Z",
     "start_time": "2024-02-19T23:15:51.502379700Z"
    }
   },
   "outputs": [
    {
     "data": {
      "text/plain": "tensor([[1., 0., 0., 0., 0.],\n        [1., 1., 0., 0., 0.],\n        [1., 1., 1., 0., 0.],\n        [1., 1., 1., 1., 0.],\n        [1., 1., 1., 1., 1.]])"
     },
     "execution_count": 37,
     "metadata": {},
     "output_type": "execute_result"
    }
   ],
   "source": [
    "torch.exp(out)"
   ]
  },
  {
   "cell_type": "code",
   "execution_count": 38,
   "metadata": {
    "ExecuteTime": {
     "end_time": "2024-02-19T23:15:51.581379400Z",
     "start_time": "2024-02-19T23:15:51.536380400Z"
    }
   },
   "outputs": [
    {
     "name": "stdout",
     "output_type": "stream",
     "text": [
      "torch.Size([3, 2, 4])\n",
      "torch.Size([2, 4, 3])\n"
     ]
    }
   ],
   "source": [
    "input = torch.zeros(2, 3, 4)\n",
    "out1 = input.transpose(0, 1)\n",
    "out2 = input.transpose(-2,-1)\n",
    "print(out1.shape)\n",
    "print(out2.shape)\n",
    "# torch.permute works the same but you provide the new order of dimensions instead of the dimensions you'd like to swap."
   ]
  },
  {
   "cell_type": "code",
   "execution_count": 39,
   "metadata": {
    "ExecuteTime": {
     "end_time": "2024-02-19T23:15:51.581379400Z",
     "start_time": "2024-02-19T23:15:51.550380600Z"
    }
   },
   "outputs": [
    {
     "data": {
      "text/plain": "tensor([[1, 2, 3],\n        [4, 5, 6],\n        [7, 8, 9]])"
     },
     "execution_count": 39,
     "metadata": {},
     "output_type": "execute_result"
    }
   ],
   "source": [
    "tensor1 = torch.tensor([1, 2, 3])\n",
    "tensor2 = torch.tensor([4, 5, 6])\n",
    "tensor3 = torch.tensor([7, 8, 9])\n",
    "\n",
    "# Stack the tensors along a new dimension\n",
    "stacked_tensor = torch.stack([tensor1, tensor2, tensor3])\n",
    "stacked_tensor\n"
   ]
  },
  {
   "cell_type": "code",
   "execution_count": 40,
   "metadata": {
    "ExecuteTime": {
     "end_time": "2024-02-19T23:15:51.681288Z",
     "start_time": "2024-02-19T23:15:51.573376800Z"
    }
   },
   "outputs": [
    {
     "name": "stdout",
     "output_type": "stream",
     "text": [
      "tensor([-0.0409,  5.6025, -8.6395], grad_fn=<SqueezeBackward4>)\n"
     ]
    }
   ],
   "source": [
    "import torch.nn as nn\n",
    "sample = torch.tensor([10.,10.,10.])\n",
    "linear = nn.Linear(3, 3, bias=False)\n",
    "print(linear(sample))"
   ]
  },
  {
   "cell_type": "code",
   "execution_count": 41,
   "metadata": {
    "scrolled": true,
    "ExecuteTime": {
     "end_time": "2024-02-19T23:15:51.740190500Z",
     "start_time": "2024-02-19T23:15:51.614382400Z"
    }
   },
   "outputs": [
    {
     "name": "stdout",
     "output_type": "stream",
     "text": [
      "tensor([0.0900, 0.2447, 0.6652])\n"
     ]
    }
   ],
   "source": [
    "import torch.nn.functional as F\n",
    "\n",
    "# Create a tensor\n",
    "tensor1 = torch.tensor([1.0, 2.0, 3.0])\n",
    "\n",
    "# Apply softmax using torch.nn.functional.softmax()\n",
    "softmax_output = F.softmax(tensor1, dim=0)\n",
    "\n",
    "print(softmax_output)"
   ]
  },
  {
   "cell_type": "code",
   "execution_count": 42,
   "metadata": {
    "scrolled": true,
    "ExecuteTime": {
     "end_time": "2024-02-19T23:15:51.744190400Z",
     "start_time": "2024-02-19T23:15:51.647617600Z"
    }
   },
   "outputs": [
    {
     "name": "stdout",
     "output_type": "stream",
     "text": [
      "torch.Size([4, 6])\n",
      "tensor([[-0.3655,  0.0534,  0.0515, -1.7373,  2.3227, -0.8812],\n",
      "        [ 1.2828,  0.5326, -1.1410,  0.0150, -0.4516, -0.7361],\n",
      "        [-0.4217,  0.1935,  0.4434, -1.1368, -1.3438, -0.7928],\n",
      "        [-0.3913, -1.1429,  0.2978, -0.5168,  1.4366,  1.2273]],\n",
      "       grad_fn=<EmbeddingBackward0>)\n"
     ]
    }
   ],
   "source": [
    "# Initialize an embedding layer\n",
    "vocab_size = 80\n",
    "embedding_dim = 6\n",
    "embedding = nn.Embedding(vocab_size, embedding_dim)\n",
    "\n",
    "# Create some input indices\n",
    "input_indices = torch.LongTensor([1, 5, 3, 2])\n",
    "\n",
    "# Apply the embedding layer\n",
    "embedded_output = embedding(input_indices)\n",
    "\n",
    "# The output will be a tensor of shape (4, 6), where 4 is the number of inputs\n",
    "# and 6 is the dimensionality of the embedding vectors\n",
    "print(embedded_output.shape)\n",
    "print(embedded_output)\n"
   ]
  },
  {
   "cell_type": "code",
   "execution_count": 43,
   "metadata": {
    "scrolled": true,
    "ExecuteTime": {
     "end_time": "2024-02-19T23:15:51.760176200Z",
     "start_time": "2024-02-19T23:15:51.682175600Z"
    }
   },
   "outputs": [
    {
     "name": "stdout",
     "output_type": "stream",
     "text": [
      "tensor([[ 27,  30,  33],\n",
      "        [ 61,  68,  75],\n",
      "        [ 95, 106, 117]])\n"
     ]
    }
   ],
   "source": [
    "a = torch.tensor([[1,2],[3,4],[5,6]])\n",
    "b = torch.tensor([[7,8,9],[10,11,12]])\n",
    "# print(a @ b)\n",
    "print(torch.matmul(a, b))"
   ]
  },
  {
   "cell_type": "code",
   "execution_count": 44,
   "metadata": {
    "ExecuteTime": {
     "end_time": "2024-02-19T23:15:51.834526200Z",
     "start_time": "2024-02-19T23:15:51.706988100Z"
    }
   },
   "outputs": [
    {
     "name": "stdout",
     "output_type": "stream",
     "text": [
      "tensor([[0., 0., 0.],\n",
      "        [0., 0., 0.],\n",
      "        [0., 0., 0.]])\n"
     ]
    }
   ],
   "source": [
    "int_64 = torch.randint(1, (3, 2)).float()\n",
    "#type int64\n",
    "float_32 = torch.rand(2,3)\n",
    "#type float32\n",
    "# print(int_64.dtype, float_32.dtype)\n",
    "result = torch.matmul(int_64, float_32)\n",
    "print(result)"
   ]
  },
  {
   "cell_type": "code",
   "execution_count": 45,
   "metadata": {
    "ExecuteTime": {
     "end_time": "2024-02-19T23:15:51.835522900Z",
     "start_time": "2024-02-19T23:15:51.751194300Z"
    }
   },
   "outputs": [
    {
     "name": "stdout",
     "output_type": "stream",
     "text": [
      "torch.Size([2, 3, 5])\n",
      "torch.Size([2, 3, 5])\n"
     ]
    }
   ],
   "source": [
    "a = torch.rand(2, 3, 5)\n",
    "print(a.shape)\n",
    "x, y, z = a.shape\n",
    "a = a.view(x,y,z)\n",
    "# print(x, y, z)\n",
    "print(a.shape)"
   ]
  },
  {
   "cell_type": "code",
   "execution_count": 46,
   "metadata": {
    "scrolled": true,
    "ExecuteTime": {
     "end_time": "2024-02-19T23:15:51.958230300Z",
     "start_time": "2024-02-19T23:15:51.773187600Z"
    }
   },
   "outputs": [
    {
     "name": "stdout",
     "output_type": "stream",
     "text": [
      "tensor([[0.7554, 0.4223, 0.9233, 0.8897, 0.6459, 0.8366, 0.1255, 0.2126, 0.2373,\n",
      "         0.2359],\n",
      "        [0.8148, 0.0262, 0.3651, 0.0340, 0.8574, 0.1852, 0.4175, 0.4554, 0.0038,\n",
      "         0.1671],\n",
      "        [0.8099, 0.7192, 0.3690, 0.5457, 0.1857, 0.9525, 0.4349, 0.8529, 0.4250,\n",
      "         0.9129],\n",
      "        [0.8971, 0.5868, 0.8714, 0.7658, 0.5696, 0.9312, 0.7600, 0.5722, 0.4599,\n",
      "         0.2881],\n",
      "        [0.8935, 0.6017, 0.5578, 0.5163, 0.0684, 0.6818, 0.1124, 0.7242, 0.0565,\n",
      "         0.9311],\n",
      "        [0.4957, 0.1938, 0.5836, 0.3097, 0.9191, 0.3361, 0.8997, 0.2018, 0.7888,\n",
      "         0.9366],\n",
      "        [0.2340, 0.1934, 0.4269, 0.5622, 0.7998, 0.9278, 0.5096, 0.0094, 0.7227,\n",
      "         0.3767],\n",
      "        [0.9728, 0.4677, 0.7154, 0.4308, 0.4471, 0.3939, 0.9669, 0.9366, 0.0309,\n",
      "         0.4395],\n",
      "        [0.7712, 0.2348, 0.6565, 0.7910, 0.7035, 0.8414, 0.8604, 0.1256, 0.2580,\n",
      "         0.6827],\n",
      "        [0.5043, 0.1528, 0.6577, 0.4026, 0.1022, 0.3352, 0.4123, 0.3777, 0.7095,\n",
      "         0.3421],\n",
      "        [0.2222, 0.3833, 0.6223, 0.4215, 0.2366, 0.1040, 0.1243, 0.7486, 0.8331,\n",
      "         0.2199],\n",
      "        [0.6569, 0.3648, 0.3350, 0.9861, 0.0432, 0.9289, 0.5985, 0.7813, 0.7468,\n",
      "         0.8343],\n",
      "        [0.6488, 0.0463, 0.6137, 0.4498, 0.6194, 0.8281, 0.9728, 0.9255, 0.7312,\n",
      "         0.0503],\n",
      "        [0.3323, 0.4598, 0.1579, 0.9745, 0.3885, 0.6722, 0.0476, 0.3731, 0.0778,\n",
      "         0.8313],\n",
      "        [0.0384, 0.9848, 0.6032, 0.8248, 0.5510, 0.0226, 0.6565, 0.6278, 0.6587,\n",
      "         0.7971],\n",
      "        [0.4695, 0.4719, 0.1876, 0.2326, 0.4585, 0.6666, 0.6998, 0.3179, 0.6860,\n",
      "         0.8541],\n",
      "        [0.3980, 0.1644, 0.5829, 0.7140, 0.8233, 0.0899, 0.7359, 0.6086, 0.8557,\n",
      "         0.9032],\n",
      "        [0.0292, 0.9910, 0.8267, 0.1649, 0.4030, 0.9431, 0.2199, 0.1355, 0.9662,\n",
      "         0.6557],\n",
      "        [0.1077, 0.0529, 0.7849, 0.1050, 0.2526, 0.7167, 0.4977, 0.2920, 0.1812,\n",
      "         0.9939],\n",
      "        [0.2344, 0.6204, 0.3027, 0.7494, 0.2507, 0.8348, 0.2801, 0.8744, 0.3549,\n",
      "         0.0493],\n",
      "        [0.3430, 0.0688, 0.0236, 0.0953, 0.5988, 0.1315, 0.8231, 0.0293, 0.2499,\n",
      "         0.7353],\n",
      "        [0.8717, 0.3114, 0.4889, 0.9423, 0.9225, 0.9627, 0.9080, 0.4578, 0.4517,\n",
      "         0.0470],\n",
      "        [0.1451, 0.2661, 0.7092, 0.1722, 0.9506, 0.4128, 0.5471, 0.7799, 0.5103,\n",
      "         0.7131],\n",
      "        [0.8572, 0.4186, 0.8609, 0.9706, 0.5293, 0.4126, 0.2536, 0.0221, 0.8325,\n",
      "         0.4755],\n",
      "        [0.9911, 0.5759, 0.5145, 0.5004, 0.7128, 0.1301, 0.9734, 0.2968, 0.6894,\n",
      "         0.0918],\n",
      "        [0.2740, 0.2294, 0.7038, 0.6122, 0.4861, 0.5346, 0.0620, 0.3866, 0.8303,\n",
      "         0.8170],\n",
      "        [0.6898, 0.6539, 0.8701, 0.0926, 0.2185, 0.8391, 0.4968, 0.4110, 0.2794,\n",
      "         0.0401],\n",
      "        [0.8951, 0.0549, 0.7145, 0.5402, 0.2389, 0.4504, 0.2297, 0.7566, 0.9817,\n",
      "         0.6681],\n",
      "        [0.9088, 0.8872, 0.7285, 0.4512, 0.9441, 0.5604, 0.2740, 0.2136, 0.8444,\n",
      "         0.0488],\n",
      "        [0.1170, 0.9469, 0.3221, 0.1901, 0.6884, 0.8351, 0.2825, 0.3914, 0.6932,\n",
      "         0.2024],\n",
      "        [0.7719, 0.0418, 0.7648, 0.6708, 0.3179, 0.7595, 0.8635, 0.3258, 0.7408,\n",
      "         0.3637],\n",
      "        [0.3787, 0.0371, 0.8894, 0.0315, 0.8123, 0.7602, 0.3218, 0.0038, 0.8664,\n",
      "         0.3447]])\n"
     ]
    },
    {
     "ename": "IndexError",
     "evalue": "too many indices for tensor of dimension 2",
     "output_type": "error",
     "traceback": [
      "\u001B[1;31m---------------------------------------------------------------------------\u001B[0m",
      "\u001B[1;31mIndexError\u001B[0m                                Traceback (most recent call last)",
      "Cell \u001B[1;32mIn[46], line 6\u001B[0m\n\u001B[0;32m      4\u001B[0m \u001B[38;5;28mprint\u001B[39m(output)\n\u001B[0;32m      5\u001B[0m \u001B[38;5;66;03m# print(input)\u001B[39;00m\n\u001B[1;32m----> 6\u001B[0m \u001B[38;5;28mprint\u001B[39m(\u001B[43moutput\u001B[49m\u001B[43m[\u001B[49m\u001B[43m:\u001B[49m\u001B[43m,\u001B[49m\u001B[43m \u001B[49m\u001B[38;5;241;43m-\u001B[39;49m\u001B[38;5;241;43m1\u001B[39;49m\u001B[43m,\u001B[49m\u001B[43m \u001B[49m\u001B[43m:\u001B[49m\u001B[43m]\u001B[49m)\n",
      "\u001B[1;31mIndexError\u001B[0m: too many indices for tensor of dimension 2"
     ]
    }
   ],
   "source": [
    "input = torch.rand((4, 8, 10))\n",
    "B, T, C = input.shape\n",
    "output = input.view(B*T, C)\n",
    "print(output)\n",
    "# print(input)\n",
    "print(output[:, -1, :])"
   ]
  },
  {
   "cell_type": "code",
   "execution_count": 48,
   "metadata": {
    "scrolled": true,
    "ExecuteTime": {
     "end_time": "2024-02-21T04:06:33.357622Z",
     "start_time": "2024-02-21T04:06:33.331796800Z"
    }
   },
   "outputs": [
    {
     "name": "stdout",
     "output_type": "stream",
     "text": [
      "tensor([1.])\n"
     ]
    }
   ],
   "source": [
    "x = torch.tensor([10], dtype=torch.float32)\n",
    "y = F.tanh(x)\n",
    "print(y)"
   ]
  },
  {
   "cell_type": "code",
   "execution_count": null,
   "metadata": {
    "ExecuteTime": {
     "start_time": "2024-02-19T23:15:51.936091700Z"
    }
   },
   "outputs": [],
   "source": []
  }
 ],
 "metadata": {
  "kernelspec": {
   "display_name": "cuda-gpt",
   "language": "python",
   "name": "cuda"
  },
  "language_info": {
   "codemirror_mode": {
    "name": "ipython",
    "version": 3
   },
   "file_extension": ".py",
   "mimetype": "text/x-python",
   "name": "python",
   "nbconvert_exporter": "python",
   "pygments_lexer": "ipython3",
   "version": "3.10.9"
  }
 },
 "nbformat": 4,
 "nbformat_minor": 2
}
